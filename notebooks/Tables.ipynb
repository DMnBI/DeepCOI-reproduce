{
 "cells": [
  {
   "cell_type": "code",
   "execution_count": 1,
   "id": "068b7cd3-af35-4529-8747-4d46a71c3af5",
   "metadata": {
    "tags": []
   },
   "outputs": [],
   "source": [
    "import pandas as pd"
   ]
  },
  {
   "cell_type": "markdown",
   "id": "052442d2-eb5a-4e39-afb2-2e2267ed03be",
   "metadata": {},
   "source": [
    "# Table1"
   ]
  },
  {
   "cell_type": "code",
   "execution_count": 3,
   "id": "419bb15d-77c8-49a4-a3f4-4d289df841e7",
   "metadata": {
    "tags": []
   },
   "outputs": [
    {
     "data": {
      "text/html": [
       "<div>\n",
       "<style scoped>\n",
       "    .dataframe tbody tr th:only-of-type {\n",
       "        vertical-align: middle;\n",
       "    }\n",
       "\n",
       "    .dataframe tbody tr th {\n",
       "        vertical-align: top;\n",
       "    }\n",
       "\n",
       "    .dataframe thead th {\n",
       "        text-align: right;\n",
       "    }\n",
       "</style>\n",
       "<table border=\"1\" class=\"dataframe\">\n",
       "  <thead>\n",
       "    <tr style=\"text-align: right;\">\n",
       "      <th></th>\n",
       "      <th>embedding</th>\n",
       "      <th>phylum</th>\n",
       "      <th>rank</th>\n",
       "      <th>AUROC</th>\n",
       "      <th>AUPR</th>\n",
       "    </tr>\n",
       "  </thead>\n",
       "  <tbody>\n",
       "    <tr>\n",
       "      <th>0</th>\n",
       "      <td>DeepCOI</td>\n",
       "      <td>Annelida</td>\n",
       "      <td>class</td>\n",
       "      <td>0.996351</td>\n",
       "      <td>0.964091</td>\n",
       "    </tr>\n",
       "    <tr>\n",
       "      <th>1</th>\n",
       "      <td>onehot</td>\n",
       "      <td>Annelida</td>\n",
       "      <td>class</td>\n",
       "      <td>0.971840</td>\n",
       "      <td>0.949372</td>\n",
       "    </tr>\n",
       "  </tbody>\n",
       "</table>\n",
       "</div>"
      ],
      "text/plain": [
       "  embedding    phylum   rank     AUROC      AUPR\n",
       "0   DeepCOI  Annelida  class  0.996351  0.964091\n",
       "1    onehot  Annelida  class  0.971840  0.949372"
      ]
     },
     "execution_count": 3,
     "metadata": {},
     "output_type": "execute_result"
    }
   ],
   "source": [
    "df = pd.read_csv(\"../Table1/Table1.data.csv\", sep=',', index_col=None)\n",
    "df.head(n=2)"
   ]
  },
  {
   "cell_type": "code",
   "execution_count": 9,
   "id": "2589fbf3-e45b-45e7-a9bd-70ccb438fb03",
   "metadata": {
    "tags": []
   },
   "outputs": [
    {
     "data": {
      "text/html": [
       "<div>\n",
       "<style scoped>\n",
       "    .dataframe tbody tr th:only-of-type {\n",
       "        vertical-align: middle;\n",
       "    }\n",
       "\n",
       "    .dataframe tbody tr th {\n",
       "        vertical-align: top;\n",
       "    }\n",
       "\n",
       "    .dataframe thead th {\n",
       "        text-align: right;\n",
       "    }\n",
       "</style>\n",
       "<table border=\"1\" class=\"dataframe\">\n",
       "  <thead>\n",
       "    <tr style=\"text-align: right;\">\n",
       "      <th>rank</th>\n",
       "      <th>class</th>\n",
       "      <th>family</th>\n",
       "      <th>genus</th>\n",
       "      <th>order</th>\n",
       "      <th>species</th>\n",
       "    </tr>\n",
       "    <tr>\n",
       "      <th>embedding</th>\n",
       "      <th></th>\n",
       "      <th></th>\n",
       "      <th></th>\n",
       "      <th></th>\n",
       "      <th></th>\n",
       "    </tr>\n",
       "  </thead>\n",
       "  <tbody>\n",
       "    <tr>\n",
       "      <th>onehot</th>\n",
       "      <td>0.962150</td>\n",
       "      <td>0.884245</td>\n",
       "      <td>0.861342</td>\n",
       "      <td>0.930730</td>\n",
       "      <td>0.885932</td>\n",
       "    </tr>\n",
       "    <tr>\n",
       "      <th>random</th>\n",
       "      <td>0.987390</td>\n",
       "      <td>0.938801</td>\n",
       "      <td>0.923905</td>\n",
       "      <td>0.964618</td>\n",
       "      <td>0.921982</td>\n",
       "    </tr>\n",
       "    <tr>\n",
       "      <th>end_to_end</th>\n",
       "      <td>0.930129</td>\n",
       "      <td>0.853295</td>\n",
       "      <td>0.829379</td>\n",
       "      <td>0.911182</td>\n",
       "      <td>0.792900</td>\n",
       "    </tr>\n",
       "    <tr>\n",
       "      <th>DeepCOI</th>\n",
       "      <td>0.991415</td>\n",
       "      <td>0.971291</td>\n",
       "      <td>0.948551</td>\n",
       "      <td>0.984032</td>\n",
       "      <td>0.912680</td>\n",
       "    </tr>\n",
       "  </tbody>\n",
       "</table>\n",
       "</div>"
      ],
      "text/plain": [
       "rank           class    family     genus     order   species\n",
       "embedding                                                   \n",
       "onehot      0.962150  0.884245  0.861342  0.930730  0.885932\n",
       "random      0.987390  0.938801  0.923905  0.964618  0.921982\n",
       "end_to_end  0.930129  0.853295  0.829379  0.911182  0.792900\n",
       "DeepCOI     0.991415  0.971291  0.948551  0.984032  0.912680"
      ]
     },
     "execution_count": 9,
     "metadata": {},
     "output_type": "execute_result"
    }
   ],
   "source": [
    "auroc = df.groupby([\"embedding\", \"rank\"])['AUROC'].mean().unstack()\n",
    "auroc.loc[['onehot', 'random', 'end_to_end', 'DeepCOI']]"
   ]
  },
  {
   "cell_type": "code",
   "execution_count": 10,
   "id": "853579bf-a45e-4efc-9312-ac38f32d5bcd",
   "metadata": {
    "tags": []
   },
   "outputs": [
    {
     "data": {
      "text/html": [
       "<div>\n",
       "<style scoped>\n",
       "    .dataframe tbody tr th:only-of-type {\n",
       "        vertical-align: middle;\n",
       "    }\n",
       "\n",
       "    .dataframe tbody tr th {\n",
       "        vertical-align: top;\n",
       "    }\n",
       "\n",
       "    .dataframe thead th {\n",
       "        text-align: right;\n",
       "    }\n",
       "</style>\n",
       "<table border=\"1\" class=\"dataframe\">\n",
       "  <thead>\n",
       "    <tr style=\"text-align: right;\">\n",
       "      <th>rank</th>\n",
       "      <th>class</th>\n",
       "      <th>family</th>\n",
       "      <th>genus</th>\n",
       "      <th>order</th>\n",
       "      <th>species</th>\n",
       "    </tr>\n",
       "    <tr>\n",
       "      <th>embedding</th>\n",
       "      <th></th>\n",
       "      <th></th>\n",
       "      <th></th>\n",
       "      <th></th>\n",
       "      <th></th>\n",
       "    </tr>\n",
       "  </thead>\n",
       "  <tbody>\n",
       "    <tr>\n",
       "      <th>onehot</th>\n",
       "      <td>0.936505</td>\n",
       "      <td>0.778533</td>\n",
       "      <td>0.744357</td>\n",
       "      <td>0.849838</td>\n",
       "      <td>0.749274</td>\n",
       "    </tr>\n",
       "    <tr>\n",
       "      <th>random</th>\n",
       "      <td>0.969564</td>\n",
       "      <td>0.864125</td>\n",
       "      <td>0.826830</td>\n",
       "      <td>0.910363</td>\n",
       "      <td>0.819010</td>\n",
       "    </tr>\n",
       "    <tr>\n",
       "      <th>end_to_end</th>\n",
       "      <td>0.929440</td>\n",
       "      <td>0.744890</td>\n",
       "      <td>0.699638</td>\n",
       "      <td>0.841762</td>\n",
       "      <td>0.612905</td>\n",
       "    </tr>\n",
       "    <tr>\n",
       "      <th>DeepCOI</th>\n",
       "      <td>0.979525</td>\n",
       "      <td>0.901880</td>\n",
       "      <td>0.866970</td>\n",
       "      <td>0.945854</td>\n",
       "      <td>0.817341</td>\n",
       "    </tr>\n",
       "  </tbody>\n",
       "</table>\n",
       "</div>"
      ],
      "text/plain": [
       "rank           class    family     genus     order   species\n",
       "embedding                                                   \n",
       "onehot      0.936505  0.778533  0.744357  0.849838  0.749274\n",
       "random      0.969564  0.864125  0.826830  0.910363  0.819010\n",
       "end_to_end  0.929440  0.744890  0.699638  0.841762  0.612905\n",
       "DeepCOI     0.979525  0.901880  0.866970  0.945854  0.817341"
      ]
     },
     "execution_count": 10,
     "metadata": {},
     "output_type": "execute_result"
    }
   ],
   "source": [
    "aupr = df.groupby([\"embedding\", \"rank\"])['AUPR'].mean().unstack()\n",
    "aupr.loc[['onehot', 'random', 'end_to_end', 'DeepCOI']]"
   ]
  },
  {
   "cell_type": "markdown",
   "id": "1720110e-08f2-4bda-a06a-73d49c19b60e",
   "metadata": {},
   "source": [
    "# Table2"
   ]
  },
  {
   "cell_type": "code",
   "execution_count": 14,
   "id": "3abea381-fde8-4ec8-83dd-010c1796249c",
   "metadata": {
    "tags": []
   },
   "outputs": [
    {
     "data": {
      "text/html": [
       "<div>\n",
       "<style scoped>\n",
       "    .dataframe tbody tr th:only-of-type {\n",
       "        vertical-align: middle;\n",
       "    }\n",
       "\n",
       "    .dataframe tbody tr th {\n",
       "        vertical-align: top;\n",
       "    }\n",
       "\n",
       "    .dataframe thead th {\n",
       "        text-align: right;\n",
       "    }\n",
       "</style>\n",
       "<table border=\"1\" class=\"dataframe\">\n",
       "  <thead>\n",
       "    <tr style=\"text-align: right;\">\n",
       "      <th></th>\n",
       "      <th>model</th>\n",
       "      <th>phylum</th>\n",
       "      <th>rank</th>\n",
       "      <th>AUROC</th>\n",
       "      <th>AUPR</th>\n",
       "    </tr>\n",
       "  </thead>\n",
       "  <tbody>\n",
       "    <tr>\n",
       "      <th>0</th>\n",
       "      <td>1D-CNN_GRU</td>\n",
       "      <td>Annelida</td>\n",
       "      <td>class</td>\n",
       "      <td>0.937903</td>\n",
       "      <td>0.906923</td>\n",
       "    </tr>\n",
       "    <tr>\n",
       "      <th>1</th>\n",
       "      <td>GRU</td>\n",
       "      <td>Annelida</td>\n",
       "      <td>class</td>\n",
       "      <td>0.946783</td>\n",
       "      <td>0.923207</td>\n",
       "    </tr>\n",
       "  </tbody>\n",
       "</table>\n",
       "</div>"
      ],
      "text/plain": [
       "        model    phylum   rank     AUROC      AUPR\n",
       "0  1D-CNN_GRU  Annelida  class  0.937903  0.906923\n",
       "1         GRU  Annelida  class  0.946783  0.923207"
      ]
     },
     "execution_count": 14,
     "metadata": {},
     "output_type": "execute_result"
    }
   ],
   "source": [
    "df = pd.read_csv(\"../Table2/Table2.data.csv\", sep=',', index_col=None)\n",
    "df.head(n=2)"
   ]
  },
  {
   "cell_type": "code",
   "execution_count": 15,
   "id": "e6a58afc-d47d-45c4-86c6-4dd4102055a0",
   "metadata": {
    "tags": []
   },
   "outputs": [
    {
     "data": {
      "text/html": [
       "<div>\n",
       "<style scoped>\n",
       "    .dataframe tbody tr th:only-of-type {\n",
       "        vertical-align: middle;\n",
       "    }\n",
       "\n",
       "    .dataframe tbody tr th {\n",
       "        vertical-align: top;\n",
       "    }\n",
       "\n",
       "    .dataframe thead th {\n",
       "        text-align: right;\n",
       "    }\n",
       "</style>\n",
       "<table border=\"1\" class=\"dataframe\">\n",
       "  <thead>\n",
       "    <tr style=\"text-align: right;\">\n",
       "      <th>rank</th>\n",
       "      <th>class</th>\n",
       "      <th>family</th>\n",
       "      <th>genus</th>\n",
       "      <th>order</th>\n",
       "      <th>species</th>\n",
       "    </tr>\n",
       "    <tr>\n",
       "      <th>model</th>\n",
       "      <th></th>\n",
       "      <th></th>\n",
       "      <th></th>\n",
       "      <th></th>\n",
       "      <th></th>\n",
       "    </tr>\n",
       "  </thead>\n",
       "  <tbody>\n",
       "    <tr>\n",
       "      <th>no_network</th>\n",
       "      <td>0.995135</td>\n",
       "      <td>0.968574</td>\n",
       "      <td>0.948383</td>\n",
       "      <td>0.983549</td>\n",
       "      <td>0.921194</td>\n",
       "    </tr>\n",
       "    <tr>\n",
       "      <th>1D-CNN</th>\n",
       "      <td>0.991199</td>\n",
       "      <td>0.971790</td>\n",
       "      <td>0.948683</td>\n",
       "      <td>0.983329</td>\n",
       "      <td>0.912680</td>\n",
       "    </tr>\n",
       "    <tr>\n",
       "      <th>GRU</th>\n",
       "      <td>0.978525</td>\n",
       "      <td>0.937014</td>\n",
       "      <td>0.913004</td>\n",
       "      <td>0.958991</td>\n",
       "      <td>0.904984</td>\n",
       "    </tr>\n",
       "    <tr>\n",
       "      <th>1D-CNN_GRU</th>\n",
       "      <td>0.965510</td>\n",
       "      <td>0.900669</td>\n",
       "      <td>0.879939</td>\n",
       "      <td>0.933565</td>\n",
       "      <td>0.820859</td>\n",
       "    </tr>\n",
       "  </tbody>\n",
       "</table>\n",
       "</div>"
      ],
      "text/plain": [
       "rank           class    family     genus     order   species\n",
       "model                                                       \n",
       "no_network  0.995135  0.968574  0.948383  0.983549  0.921194\n",
       "1D-CNN      0.991199  0.971790  0.948683  0.983329  0.912680\n",
       "GRU         0.978525  0.937014  0.913004  0.958991  0.904984\n",
       "1D-CNN_GRU  0.965510  0.900669  0.879939  0.933565  0.820859"
      ]
     },
     "execution_count": 15,
     "metadata": {},
     "output_type": "execute_result"
    }
   ],
   "source": [
    "auroc = df.groupby([\"model\", \"rank\"])['AUROC'].mean().unstack()\n",
    "auroc.loc[['no_network', '1D-CNN', 'GRU', '1D-CNN_GRU']]"
   ]
  },
  {
   "cell_type": "code",
   "execution_count": 16,
   "id": "3f121c01-0051-41ce-9653-52479ff3441b",
   "metadata": {
    "tags": []
   },
   "outputs": [
    {
     "data": {
      "text/html": [
       "<div>\n",
       "<style scoped>\n",
       "    .dataframe tbody tr th:only-of-type {\n",
       "        vertical-align: middle;\n",
       "    }\n",
       "\n",
       "    .dataframe tbody tr th {\n",
       "        vertical-align: top;\n",
       "    }\n",
       "\n",
       "    .dataframe thead th {\n",
       "        text-align: right;\n",
       "    }\n",
       "</style>\n",
       "<table border=\"1\" class=\"dataframe\">\n",
       "  <thead>\n",
       "    <tr style=\"text-align: right;\">\n",
       "      <th>rank</th>\n",
       "      <th>class</th>\n",
       "      <th>family</th>\n",
       "      <th>genus</th>\n",
       "      <th>order</th>\n",
       "      <th>species</th>\n",
       "    </tr>\n",
       "    <tr>\n",
       "      <th>model</th>\n",
       "      <th></th>\n",
       "      <th></th>\n",
       "      <th></th>\n",
       "      <th></th>\n",
       "      <th></th>\n",
       "    </tr>\n",
       "  </thead>\n",
       "  <tbody>\n",
       "    <tr>\n",
       "      <th>no_network</th>\n",
       "      <td>0.989408</td>\n",
       "      <td>0.898690</td>\n",
       "      <td>0.858249</td>\n",
       "      <td>0.947859</td>\n",
       "      <td>0.823794</td>\n",
       "    </tr>\n",
       "    <tr>\n",
       "      <th>1D-CNN</th>\n",
       "      <td>0.979525</td>\n",
       "      <td>0.901880</td>\n",
       "      <td>0.866970</td>\n",
       "      <td>0.945854</td>\n",
       "      <td>0.817341</td>\n",
       "    </tr>\n",
       "    <tr>\n",
       "      <th>GRU</th>\n",
       "      <td>0.962316</td>\n",
       "      <td>0.856145</td>\n",
       "      <td>0.812163</td>\n",
       "      <td>0.908327</td>\n",
       "      <td>0.795426</td>\n",
       "    </tr>\n",
       "    <tr>\n",
       "      <th>1D-CNN_GRU</th>\n",
       "      <td>0.950092</td>\n",
       "      <td>0.774723</td>\n",
       "      <td>0.717007</td>\n",
       "      <td>0.859899</td>\n",
       "      <td>0.712589</td>\n",
       "    </tr>\n",
       "  </tbody>\n",
       "</table>\n",
       "</div>"
      ],
      "text/plain": [
       "rank           class    family     genus     order   species\n",
       "model                                                       \n",
       "no_network  0.989408  0.898690  0.858249  0.947859  0.823794\n",
       "1D-CNN      0.979525  0.901880  0.866970  0.945854  0.817341\n",
       "GRU         0.962316  0.856145  0.812163  0.908327  0.795426\n",
       "1D-CNN_GRU  0.950092  0.774723  0.717007  0.859899  0.712589"
      ]
     },
     "execution_count": 16,
     "metadata": {},
     "output_type": "execute_result"
    }
   ],
   "source": [
    "aupr = df.groupby([\"model\", \"rank\"])['AUPR'].mean().unstack()\n",
    "aupr.loc[['no_network', '1D-CNN', 'GRU', '1D-CNN_GRU']]"
   ]
  },
  {
   "cell_type": "markdown",
   "id": "c31a9672-83bd-4a5a-a2dc-ded21bbd868e",
   "metadata": {},
   "source": [
    "# Table3"
   ]
  },
  {
   "cell_type": "code",
   "execution_count": 11,
   "id": "9e296d20-4409-4b02-afef-2ab3c3e0e06d",
   "metadata": {
    "tags": []
   },
   "outputs": [
    {
     "data": {
      "text/html": [
       "<div>\n",
       "<style scoped>\n",
       "    .dataframe tbody tr th:only-of-type {\n",
       "        vertical-align: middle;\n",
       "    }\n",
       "\n",
       "    .dataframe tbody tr th {\n",
       "        vertical-align: top;\n",
       "    }\n",
       "\n",
       "    .dataframe thead th {\n",
       "        text-align: right;\n",
       "    }\n",
       "</style>\n",
       "<table border=\"1\" class=\"dataframe\">\n",
       "  <thead>\n",
       "    <tr style=\"text-align: right;\">\n",
       "      <th></th>\n",
       "      <th>model</th>\n",
       "      <th>phylum</th>\n",
       "      <th>rank</th>\n",
       "      <th>AUROC</th>\n",
       "      <th>AUPR</th>\n",
       "    </tr>\n",
       "  </thead>\n",
       "  <tbody>\n",
       "    <tr>\n",
       "      <th>0</th>\n",
       "      <td>DeepCOI</td>\n",
       "      <td>Annelida</td>\n",
       "      <td>class</td>\n",
       "      <td>0.996351</td>\n",
       "      <td>0.964091</td>\n",
       "    </tr>\n",
       "    <tr>\n",
       "      <th>1</th>\n",
       "      <td>wo_MCM</td>\n",
       "      <td>Annelida</td>\n",
       "      <td>class</td>\n",
       "      <td>0.997100</td>\n",
       "      <td>0.972854</td>\n",
       "    </tr>\n",
       "  </tbody>\n",
       "</table>\n",
       "</div>"
      ],
      "text/plain": [
       "     model    phylum   rank     AUROC      AUPR\n",
       "0  DeepCOI  Annelida  class  0.996351  0.964091\n",
       "1   wo_MCM  Annelida  class  0.997100  0.972854"
      ]
     },
     "execution_count": 11,
     "metadata": {},
     "output_type": "execute_result"
    }
   ],
   "source": [
    "df = pd.read_csv(\"../Table3/Table3.data.csv\", sep=',', index_col=None)\n",
    "df.head(n=2)"
   ]
  },
  {
   "cell_type": "code",
   "execution_count": 12,
   "id": "1b3634bc-3511-47a4-86fb-b77606379ab9",
   "metadata": {
    "tags": []
   },
   "outputs": [
    {
     "data": {
      "text/html": [
       "<div>\n",
       "<style scoped>\n",
       "    .dataframe tbody tr th:only-of-type {\n",
       "        vertical-align: middle;\n",
       "    }\n",
       "\n",
       "    .dataframe tbody tr th {\n",
       "        vertical-align: top;\n",
       "    }\n",
       "\n",
       "    .dataframe thead th {\n",
       "        text-align: right;\n",
       "    }\n",
       "</style>\n",
       "<table border=\"1\" class=\"dataframe\">\n",
       "  <thead>\n",
       "    <tr style=\"text-align: right;\">\n",
       "      <th>rank</th>\n",
       "      <th>class</th>\n",
       "      <th>family</th>\n",
       "      <th>genus</th>\n",
       "      <th>order</th>\n",
       "      <th>species</th>\n",
       "    </tr>\n",
       "    <tr>\n",
       "      <th>model</th>\n",
       "      <th></th>\n",
       "      <th></th>\n",
       "      <th></th>\n",
       "      <th></th>\n",
       "      <th></th>\n",
       "    </tr>\n",
       "  </thead>\n",
       "  <tbody>\n",
       "    <tr>\n",
       "      <th>base</th>\n",
       "      <td>0.987687</td>\n",
       "      <td>0.962670</td>\n",
       "      <td>0.948141</td>\n",
       "      <td>0.978117</td>\n",
       "      <td>0.929722</td>\n",
       "    </tr>\n",
       "    <tr>\n",
       "      <th>wo_MCM</th>\n",
       "      <td>0.991414</td>\n",
       "      <td>0.969537</td>\n",
       "      <td>0.947731</td>\n",
       "      <td>0.980746</td>\n",
       "      <td>0.912680</td>\n",
       "    </tr>\n",
       "    <tr>\n",
       "      <th>wo_wBCE</th>\n",
       "      <td>0.990089</td>\n",
       "      <td>0.963941</td>\n",
       "      <td>0.947204</td>\n",
       "      <td>0.980547</td>\n",
       "      <td>0.929722</td>\n",
       "    </tr>\n",
       "    <tr>\n",
       "      <th>DeepCOI</th>\n",
       "      <td>0.991170</td>\n",
       "      <td>0.971609</td>\n",
       "      <td>0.948041</td>\n",
       "      <td>0.983781</td>\n",
       "      <td>0.912680</td>\n",
       "    </tr>\n",
       "  </tbody>\n",
       "</table>\n",
       "</div>"
      ],
      "text/plain": [
       "rank        class    family     genus     order   species\n",
       "model                                                    \n",
       "base     0.987687  0.962670  0.948141  0.978117  0.929722\n",
       "wo_MCM   0.991414  0.969537  0.947731  0.980746  0.912680\n",
       "wo_wBCE  0.990089  0.963941  0.947204  0.980547  0.929722\n",
       "DeepCOI  0.991170  0.971609  0.948041  0.983781  0.912680"
      ]
     },
     "execution_count": 12,
     "metadata": {},
     "output_type": "execute_result"
    }
   ],
   "source": [
    "auroc = df.groupby([\"model\", \"rank\"])['AUROC'].mean().unstack()\n",
    "auroc.loc[['base', 'wo_MCM', 'wo_wBCE', 'DeepCOI']]"
   ]
  },
  {
   "cell_type": "code",
   "execution_count": 13,
   "id": "c3e5ef69-eae2-4285-941d-9ccfcefdd80a",
   "metadata": {
    "tags": []
   },
   "outputs": [
    {
     "data": {
      "text/html": [
       "<div>\n",
       "<style scoped>\n",
       "    .dataframe tbody tr th:only-of-type {\n",
       "        vertical-align: middle;\n",
       "    }\n",
       "\n",
       "    .dataframe tbody tr th {\n",
       "        vertical-align: top;\n",
       "    }\n",
       "\n",
       "    .dataframe thead th {\n",
       "        text-align: right;\n",
       "    }\n",
       "</style>\n",
       "<table border=\"1\" class=\"dataframe\">\n",
       "  <thead>\n",
       "    <tr style=\"text-align: right;\">\n",
       "      <th>rank</th>\n",
       "      <th>class</th>\n",
       "      <th>family</th>\n",
       "      <th>genus</th>\n",
       "      <th>order</th>\n",
       "      <th>species</th>\n",
       "    </tr>\n",
       "    <tr>\n",
       "      <th>model</th>\n",
       "      <th></th>\n",
       "      <th></th>\n",
       "      <th></th>\n",
       "      <th></th>\n",
       "      <th></th>\n",
       "    </tr>\n",
       "  </thead>\n",
       "  <tbody>\n",
       "    <tr>\n",
       "      <th>base</th>\n",
       "      <td>0.966152</td>\n",
       "      <td>0.890788</td>\n",
       "      <td>0.861363</td>\n",
       "      <td>0.927949</td>\n",
       "      <td>0.830272</td>\n",
       "    </tr>\n",
       "    <tr>\n",
       "      <th>wo_MCM</th>\n",
       "      <td>0.975374</td>\n",
       "      <td>0.899899</td>\n",
       "      <td>0.867262</td>\n",
       "      <td>0.944058</td>\n",
       "      <td>0.817341</td>\n",
       "    </tr>\n",
       "    <tr>\n",
       "      <th>wo_wBCE</th>\n",
       "      <td>0.973249</td>\n",
       "      <td>0.893545</td>\n",
       "      <td>0.864425</td>\n",
       "      <td>0.931124</td>\n",
       "      <td>0.830272</td>\n",
       "    </tr>\n",
       "    <tr>\n",
       "      <th>DeepCOI</th>\n",
       "      <td>0.979525</td>\n",
       "      <td>0.901880</td>\n",
       "      <td>0.866970</td>\n",
       "      <td>0.945854</td>\n",
       "      <td>0.817341</td>\n",
       "    </tr>\n",
       "  </tbody>\n",
       "</table>\n",
       "</div>"
      ],
      "text/plain": [
       "rank        class    family     genus     order   species\n",
       "model                                                    \n",
       "base     0.966152  0.890788  0.861363  0.927949  0.830272\n",
       "wo_MCM   0.975374  0.899899  0.867262  0.944058  0.817341\n",
       "wo_wBCE  0.973249  0.893545  0.864425  0.931124  0.830272\n",
       "DeepCOI  0.979525  0.901880  0.866970  0.945854  0.817341"
      ]
     },
     "execution_count": 13,
     "metadata": {},
     "output_type": "execute_result"
    }
   ],
   "source": [
    "aupr = df.groupby([\"model\", \"rank\"])['AUPR'].mean().unstack()\n",
    "aupr.loc[['base', 'wo_MCM', 'wo_wBCE', 'DeepCOI']]"
   ]
  },
  {
   "cell_type": "code",
   "execution_count": null,
   "id": "54333a1e-dda2-421a-bb63-f4de7671aac0",
   "metadata": {},
   "outputs": [],
   "source": []
  }
 ],
 "metadata": {
  "kernelspec": {
   "display_name": "Python 3 (ipykernel)",
   "language": "python",
   "name": "python3"
  },
  "language_info": {
   "codemirror_mode": {
    "name": "ipython",
    "version": 3
   },
   "file_extension": ".py",
   "mimetype": "text/x-python",
   "name": "python",
   "nbconvert_exporter": "python",
   "pygments_lexer": "ipython3",
   "version": "3.11.8"
  }
 },
 "nbformat": 4,
 "nbformat_minor": 5
}
