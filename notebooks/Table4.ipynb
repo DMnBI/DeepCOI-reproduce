{
 "cells": [
  {
   "cell_type": "code",
   "execution_count": 1,
   "id": "dfdfd6d4-a301-449c-88cb-5d064be316e4",
   "metadata": {
    "tags": []
   },
   "outputs": [],
   "source": [
    "import os\n",
    "os.chdir(\"../Table4\")"
   ]
  },
  {
   "cell_type": "code",
   "execution_count": 2,
   "id": "ee413468-94ac-473b-84e6-317c2b686290",
   "metadata": {
    "tags": []
   },
   "outputs": [],
   "source": [
    "import pandas as pd\n",
    "import numpy as np\n",
    "\n",
    "import matplotlib.pyplot as plt\n",
    "import seaborn as sns"
   ]
  },
  {
   "cell_type": "code",
   "execution_count": 3,
   "id": "9acb1e0b-b6be-4682-ad83-ae1c5792809f",
   "metadata": {
    "tags": []
   },
   "outputs": [],
   "source": [
    "RANKS = ['class', 'order', 'family', 'genus', 'species']"
   ]
  },
  {
   "cell_type": "code",
   "execution_count": 4,
   "id": "b72325d4-4ffa-4b52-ac29-8dc654e4bab1",
   "metadata": {
    "tags": []
   },
   "outputs": [],
   "source": [
    "def evaluation(preds, s_score, e_score, step):\n",
    "    tmp = []\n",
    "    for cutoff in np.arange(s_score, e_score, step):\n",
    "        sb = {}\n",
    "        for rank in RANKS:\n",
    "        #    subdf = df.dropna(subset=[f\"{rank}_label\"])\n",
    "\n",
    "            P = preds.query(f\"{rank}_score >= @cutoff\")\n",
    "            TP = P.query(f\"{rank}_label == {rank}_pred\").shape[0]\n",
    "            FP = P.query(f\"{rank}_label != {rank}_pred\").shape[0]\n",
    "\n",
    "            N = preds.query(f\"{rank}_score < @cutoff\")\n",
    "            FN = N.dropna(subset=[f\"{rank}_label\"]).shape[0]\n",
    "            TN = N.shape[0] - FN\n",
    "\n",
    "            recall = TP / (TP + FN)\n",
    "            precision = TP / (TP + FP)\n",
    "            f1_score = 2 * recall * precision / (recall + precision)\n",
    "\n",
    "            sb[rank] = {\n",
    "                'Recall': recall,\n",
    "                'Precision': precision,\n",
    "                'F1-score': f1_score\n",
    "            }\n",
    "\n",
    "        sb = pd.DataFrame(sb).T.reset_index()\n",
    "        sb.columns = ['rank', 'Recall', 'Precision', 'F1-score']\n",
    "        sb['cutoff'] = cutoff\n",
    "        tmp.append(sb)\n",
    "\n",
    "    return pd.concat(tmp)"
   ]
  },
  {
   "cell_type": "code",
   "execution_count": 5,
   "id": "4e421f44-0dc9-41f4-9d48-3db487c1dcbd",
   "metadata": {
    "tags": []
   },
   "outputs": [
    {
     "data": {
      "text/html": [
       "<div>\n",
       "<style scoped>\n",
       "    .dataframe tbody tr th:only-of-type {\n",
       "        vertical-align: middle;\n",
       "    }\n",
       "\n",
       "    .dataframe tbody tr th {\n",
       "        vertical-align: top;\n",
       "    }\n",
       "\n",
       "    .dataframe thead th {\n",
       "        text-align: right;\n",
       "    }\n",
       "</style>\n",
       "<table border=\"1\" class=\"dataframe\">\n",
       "  <thead>\n",
       "    <tr style=\"text-align: right;\">\n",
       "      <th></th>\n",
       "      <th>class_label</th>\n",
       "      <th>class_pred</th>\n",
       "      <th>class_score</th>\n",
       "      <th>order_label</th>\n",
       "      <th>order_pred</th>\n",
       "      <th>order_score</th>\n",
       "      <th>family_label</th>\n",
       "      <th>family_pred</th>\n",
       "      <th>family_score</th>\n",
       "      <th>genus_label</th>\n",
       "      <th>genus_pred</th>\n",
       "      <th>genus_score</th>\n",
       "      <th>species_label</th>\n",
       "      <th>species_pred</th>\n",
       "      <th>species_score</th>\n",
       "    </tr>\n",
       "  </thead>\n",
       "  <tbody>\n",
       "    <tr>\n",
       "      <th>RRMFE1128-15</th>\n",
       "      <td>Insecta</td>\n",
       "      <td>Insecta</td>\n",
       "      <td>1.0</td>\n",
       "      <td>Hymenoptera</td>\n",
       "      <td>Hymenoptera</td>\n",
       "      <td>1.0</td>\n",
       "      <td>Eulophidae</td>\n",
       "      <td>Eulophidae</td>\n",
       "      <td>0.993</td>\n",
       "      <td>Aprostocetus</td>\n",
       "      <td>Deutereulophus</td>\n",
       "      <td>0.0100</td>\n",
       "      <td>NaN</td>\n",
       "      <td>Deutereulophus Malaise6791</td>\n",
       "      <td>0.0013</td>\n",
       "    </tr>\n",
       "    <tr>\n",
       "      <th>RRMPC002-15</th>\n",
       "      <td>Insecta</td>\n",
       "      <td>Insecta</td>\n",
       "      <td>1.0</td>\n",
       "      <td>Hemiptera</td>\n",
       "      <td>Hemiptera</td>\n",
       "      <td>1.0</td>\n",
       "      <td>Cicadellidae</td>\n",
       "      <td>Cicadellidae</td>\n",
       "      <td>1.000</td>\n",
       "      <td>Dikraneura</td>\n",
       "      <td>Dikraneura</td>\n",
       "      <td>0.9313</td>\n",
       "      <td>Dikraneura mali</td>\n",
       "      <td>Dikraneura mali</td>\n",
       "      <td>0.9313</td>\n",
       "    </tr>\n",
       "  </tbody>\n",
       "</table>\n",
       "</div>"
      ],
      "text/plain": [
       "             class_label class_pred  class_score  order_label   order_pred  \\\n",
       "RRMFE1128-15     Insecta    Insecta          1.0  Hymenoptera  Hymenoptera   \n",
       "RRMPC002-15      Insecta    Insecta          1.0    Hemiptera    Hemiptera   \n",
       "\n",
       "              order_score  family_label   family_pred  family_score  \\\n",
       "RRMFE1128-15          1.0    Eulophidae    Eulophidae         0.993   \n",
       "RRMPC002-15           1.0  Cicadellidae  Cicadellidae         1.000   \n",
       "\n",
       "               genus_label      genus_pred  genus_score    species_label  \\\n",
       "RRMFE1128-15  Aprostocetus  Deutereulophus       0.0100              NaN   \n",
       "RRMPC002-15     Dikraneura      Dikraneura       0.9313  Dikraneura mali   \n",
       "\n",
       "                            species_pred  species_score  \n",
       "RRMFE1128-15  Deutereulophus Malaise6791         0.0013  \n",
       "RRMPC002-15              Dikraneura mali         0.9313  "
      ]
     },
     "execution_count": 5,
     "metadata": {},
     "output_type": "execute_result"
    }
   ],
   "source": [
    "no_mcm = pd.read_csv(\"DeepCOI/DeepCOI.no_mcm.summary.csv\", sep=',', index_col=0)\n",
    "no_mcm.head(n=2)"
   ]
  },
  {
   "cell_type": "code",
   "execution_count": 6,
   "id": "fe6c97c0-885e-4ba2-812f-912e08a563bd",
   "metadata": {
    "tags": []
   },
   "outputs": [],
   "source": [
    "nm_sb = evaluation(no_mcm, 0.5, 1.0, 0.05)"
   ]
  },
  {
   "cell_type": "code",
   "execution_count": 7,
   "id": "7f015788-bcd4-4188-a35e-c12d11665ae8",
   "metadata": {
    "tags": []
   },
   "outputs": [
    {
     "data": {
      "text/html": [
       "<div>\n",
       "<style scoped>\n",
       "    .dataframe tbody tr th:only-of-type {\n",
       "        vertical-align: middle;\n",
       "    }\n",
       "\n",
       "    .dataframe tbody tr th {\n",
       "        vertical-align: top;\n",
       "    }\n",
       "\n",
       "    .dataframe thead th {\n",
       "        text-align: right;\n",
       "    }\n",
       "</style>\n",
       "<table border=\"1\" class=\"dataframe\">\n",
       "  <thead>\n",
       "    <tr style=\"text-align: right;\">\n",
       "      <th></th>\n",
       "      <th>rank</th>\n",
       "      <th>Recall</th>\n",
       "      <th>Precision</th>\n",
       "      <th>F1-score</th>\n",
       "      <th>cutoff</th>\n",
       "    </tr>\n",
       "  </thead>\n",
       "  <tbody>\n",
       "    <tr>\n",
       "      <th>0</th>\n",
       "      <td>class</td>\n",
       "      <td>0.983704</td>\n",
       "      <td>0.998590</td>\n",
       "      <td>0.991091</td>\n",
       "      <td>0.9</td>\n",
       "    </tr>\n",
       "    <tr>\n",
       "      <th>1</th>\n",
       "      <td>order</td>\n",
       "      <td>0.929015</td>\n",
       "      <td>0.991223</td>\n",
       "      <td>0.959111</td>\n",
       "      <td>0.9</td>\n",
       "    </tr>\n",
       "    <tr>\n",
       "      <th>2</th>\n",
       "      <td>family</td>\n",
       "      <td>0.739371</td>\n",
       "      <td>0.985715</td>\n",
       "      <td>0.844954</td>\n",
       "      <td>0.9</td>\n",
       "    </tr>\n",
       "    <tr>\n",
       "      <th>3</th>\n",
       "      <td>genus</td>\n",
       "      <td>0.597806</td>\n",
       "      <td>0.596414</td>\n",
       "      <td>0.597109</td>\n",
       "      <td>0.9</td>\n",
       "    </tr>\n",
       "    <tr>\n",
       "      <th>4</th>\n",
       "      <td>species</td>\n",
       "      <td>0.973973</td>\n",
       "      <td>0.819754</td>\n",
       "      <td>0.890234</td>\n",
       "      <td>0.9</td>\n",
       "    </tr>\n",
       "  </tbody>\n",
       "</table>\n",
       "</div>"
      ],
      "text/plain": [
       "      rank    Recall  Precision  F1-score  cutoff\n",
       "0    class  0.983704   0.998590  0.991091     0.9\n",
       "1    order  0.929015   0.991223  0.959111     0.9\n",
       "2   family  0.739371   0.985715  0.844954     0.9\n",
       "3    genus  0.597806   0.596414  0.597109     0.9\n",
       "4  species  0.973973   0.819754  0.890234     0.9"
      ]
     },
     "execution_count": 7,
     "metadata": {},
     "output_type": "execute_result"
    }
   ],
   "source": [
    "nm_sb.query(\"cutoff >= 0.9 and cutoff < 0.95\")"
   ]
  },
  {
   "cell_type": "code",
   "execution_count": 8,
   "id": "dfab8957-acce-4ebb-95b0-d573c6da6d6e",
   "metadata": {
    "tags": []
   },
   "outputs": [
    {
     "data": {
      "text/html": [
       "<div>\n",
       "<style scoped>\n",
       "    .dataframe tbody tr th:only-of-type {\n",
       "        vertical-align: middle;\n",
       "    }\n",
       "\n",
       "    .dataframe tbody tr th {\n",
       "        vertical-align: top;\n",
       "    }\n",
       "\n",
       "    .dataframe thead th {\n",
       "        text-align: right;\n",
       "    }\n",
       "</style>\n",
       "<table border=\"1\" class=\"dataframe\">\n",
       "  <thead>\n",
       "    <tr style=\"text-align: right;\">\n",
       "      <th></th>\n",
       "      <th>class_label</th>\n",
       "      <th>class_pred</th>\n",
       "      <th>class_score</th>\n",
       "      <th>order_label</th>\n",
       "      <th>order_pred</th>\n",
       "      <th>order_score</th>\n",
       "      <th>family_label</th>\n",
       "      <th>family_pred</th>\n",
       "      <th>family_score</th>\n",
       "      <th>genus_label</th>\n",
       "      <th>genus_pred</th>\n",
       "      <th>genus_score</th>\n",
       "      <th>species_label</th>\n",
       "      <th>species_pred</th>\n",
       "      <th>species_score</th>\n",
       "    </tr>\n",
       "  </thead>\n",
       "  <tbody>\n",
       "    <tr>\n",
       "      <th>RRMFE1128-15</th>\n",
       "      <td>Insecta</td>\n",
       "      <td>Insecta</td>\n",
       "      <td>1.0</td>\n",
       "      <td>Hymenoptera</td>\n",
       "      <td>Hymenoptera</td>\n",
       "      <td>1.0</td>\n",
       "      <td>Eulophidae</td>\n",
       "      <td>Eulophidae</td>\n",
       "      <td>0.993</td>\n",
       "      <td>Aprostocetus</td>\n",
       "      <td>Deutereulophus</td>\n",
       "      <td>0.0100</td>\n",
       "      <td>NaN</td>\n",
       "      <td>Deutereulophus Malaise6791</td>\n",
       "      <td>0.0013</td>\n",
       "    </tr>\n",
       "    <tr>\n",
       "      <th>RRMPC002-15</th>\n",
       "      <td>Insecta</td>\n",
       "      <td>Insecta</td>\n",
       "      <td>1.0</td>\n",
       "      <td>Hemiptera</td>\n",
       "      <td>Hemiptera</td>\n",
       "      <td>1.0</td>\n",
       "      <td>Cicadellidae</td>\n",
       "      <td>Cicadellidae</td>\n",
       "      <td>1.000</td>\n",
       "      <td>Dikraneura</td>\n",
       "      <td>Dikraneura</td>\n",
       "      <td>0.9313</td>\n",
       "      <td>Dikraneura mali</td>\n",
       "      <td>Dikraneura mali</td>\n",
       "      <td>0.9313</td>\n",
       "    </tr>\n",
       "  </tbody>\n",
       "</table>\n",
       "</div>"
      ],
      "text/plain": [
       "             class_label class_pred  class_score  order_label   order_pred  \\\n",
       "RRMFE1128-15     Insecta    Insecta          1.0  Hymenoptera  Hymenoptera   \n",
       "RRMPC002-15      Insecta    Insecta          1.0    Hemiptera    Hemiptera   \n",
       "\n",
       "              order_score  family_label   family_pred  family_score  \\\n",
       "RRMFE1128-15          1.0    Eulophidae    Eulophidae         0.993   \n",
       "RRMPC002-15           1.0  Cicadellidae  Cicadellidae         1.000   \n",
       "\n",
       "               genus_label      genus_pred  genus_score    species_label  \\\n",
       "RRMFE1128-15  Aprostocetus  Deutereulophus       0.0100              NaN   \n",
       "RRMPC002-15     Dikraneura      Dikraneura       0.9313  Dikraneura mali   \n",
       "\n",
       "                            species_pred  species_score  \n",
       "RRMFE1128-15  Deutereulophus Malaise6791         0.0013  \n",
       "RRMPC002-15              Dikraneura mali         0.9313  "
      ]
     },
     "execution_count": 8,
     "metadata": {},
     "output_type": "execute_result"
    }
   ],
   "source": [
    "deepcoi = pd.read_csv(\"DeepCOI/DeepCOI.summary.csv\", sep=',', index_col=0)\n",
    "deepcoi.head(n=2)"
   ]
  },
  {
   "cell_type": "code",
   "execution_count": 9,
   "id": "0a8d26f7-1b63-44a5-89a2-05a771d7c7d7",
   "metadata": {
    "tags": []
   },
   "outputs": [],
   "source": [
    "dc_sb = evaluation(deepcoi, 0.5, 1.0, 0.05)"
   ]
  },
  {
   "cell_type": "code",
   "execution_count": 10,
   "id": "ebb66c4c-f1a4-49ea-a48d-43fe3aaf335f",
   "metadata": {
    "tags": []
   },
   "outputs": [
    {
     "data": {
      "text/html": [
       "<div>\n",
       "<style scoped>\n",
       "    .dataframe tbody tr th:only-of-type {\n",
       "        vertical-align: middle;\n",
       "    }\n",
       "\n",
       "    .dataframe tbody tr th {\n",
       "        vertical-align: top;\n",
       "    }\n",
       "\n",
       "    .dataframe thead th {\n",
       "        text-align: right;\n",
       "    }\n",
       "</style>\n",
       "<table border=\"1\" class=\"dataframe\">\n",
       "  <thead>\n",
       "    <tr style=\"text-align: right;\">\n",
       "      <th></th>\n",
       "      <th>rank</th>\n",
       "      <th>Recall</th>\n",
       "      <th>Precision</th>\n",
       "      <th>F1-score</th>\n",
       "      <th>cutoff</th>\n",
       "    </tr>\n",
       "  </thead>\n",
       "  <tbody>\n",
       "    <tr>\n",
       "      <th>0</th>\n",
       "      <td>class</td>\n",
       "      <td>0.986588</td>\n",
       "      <td>0.998540</td>\n",
       "      <td>0.992528</td>\n",
       "      <td>0.9</td>\n",
       "    </tr>\n",
       "    <tr>\n",
       "      <th>1</th>\n",
       "      <td>order</td>\n",
       "      <td>0.937902</td>\n",
       "      <td>0.991421</td>\n",
       "      <td>0.963919</td>\n",
       "      <td>0.9</td>\n",
       "    </tr>\n",
       "    <tr>\n",
       "      <th>2</th>\n",
       "      <td>family</td>\n",
       "      <td>0.744214</td>\n",
       "      <td>0.985506</td>\n",
       "      <td>0.848030</td>\n",
       "      <td>0.9</td>\n",
       "    </tr>\n",
       "    <tr>\n",
       "      <th>3</th>\n",
       "      <td>genus</td>\n",
       "      <td>0.613642</td>\n",
       "      <td>0.599361</td>\n",
       "      <td>0.606417</td>\n",
       "      <td>0.9</td>\n",
       "    </tr>\n",
       "    <tr>\n",
       "      <th>4</th>\n",
       "      <td>species</td>\n",
       "      <td>0.973973</td>\n",
       "      <td>0.820069</td>\n",
       "      <td>0.890420</td>\n",
       "      <td>0.9</td>\n",
       "    </tr>\n",
       "  </tbody>\n",
       "</table>\n",
       "</div>"
      ],
      "text/plain": [
       "      rank    Recall  Precision  F1-score  cutoff\n",
       "0    class  0.986588   0.998540  0.992528     0.9\n",
       "1    order  0.937902   0.991421  0.963919     0.9\n",
       "2   family  0.744214   0.985506  0.848030     0.9\n",
       "3    genus  0.613642   0.599361  0.606417     0.9\n",
       "4  species  0.973973   0.820069  0.890420     0.9"
      ]
     },
     "execution_count": 10,
     "metadata": {},
     "output_type": "execute_result"
    }
   ],
   "source": [
    "dc_sb.query(\"cutoff >= 0.9 and cutoff < 0.95\")"
   ]
  },
  {
   "cell_type": "code",
   "execution_count": 11,
   "id": "253a96c3-9a07-463d-9d2e-50189d7506ad",
   "metadata": {
    "tags": []
   },
   "outputs": [
    {
     "data": {
      "text/html": [
       "<div>\n",
       "<style scoped>\n",
       "    .dataframe tbody tr th:only-of-type {\n",
       "        vertical-align: middle;\n",
       "    }\n",
       "\n",
       "    .dataframe tbody tr th {\n",
       "        vertical-align: top;\n",
       "    }\n",
       "\n",
       "    .dataframe thead th {\n",
       "        text-align: right;\n",
       "    }\n",
       "</style>\n",
       "<table border=\"1\" class=\"dataframe\">\n",
       "  <thead>\n",
       "    <tr style=\"text-align: right;\">\n",
       "      <th></th>\n",
       "      <th>class_label</th>\n",
       "      <th>class_pred</th>\n",
       "      <th>class_score</th>\n",
       "      <th>order_label</th>\n",
       "      <th>order_pred</th>\n",
       "      <th>order_score</th>\n",
       "      <th>family_label</th>\n",
       "      <th>family_pred</th>\n",
       "      <th>family_score</th>\n",
       "      <th>genus_label</th>\n",
       "      <th>genus_pred</th>\n",
       "      <th>genus_score</th>\n",
       "      <th>species_label</th>\n",
       "      <th>species_pred</th>\n",
       "      <th>species_score</th>\n",
       "    </tr>\n",
       "  </thead>\n",
       "  <tbody>\n",
       "    <tr>\n",
       "      <th>RRMFA002-15</th>\n",
       "      <td>Insecta</td>\n",
       "      <td>Insecta</td>\n",
       "      <td>0.99</td>\n",
       "      <td>Diptera</td>\n",
       "      <td>Diptera</td>\n",
       "      <td>0.98</td>\n",
       "      <td>Chironomidae</td>\n",
       "      <td>Limoniidae</td>\n",
       "      <td>0.72</td>\n",
       "      <td>Parakiefferiella</td>\n",
       "      <td>Dicranomyia</td>\n",
       "      <td>0.72</td>\n",
       "      <td>NaN</td>\n",
       "      <td>Dicranomyia sp.</td>\n",
       "      <td>0.72</td>\n",
       "    </tr>\n",
       "    <tr>\n",
       "      <th>RRMFA010-15</th>\n",
       "      <td>Insecta</td>\n",
       "      <td>Insecta</td>\n",
       "      <td>0.98</td>\n",
       "      <td>Diptera</td>\n",
       "      <td>Diptera</td>\n",
       "      <td>0.88</td>\n",
       "      <td>Chironomidae</td>\n",
       "      <td>Limoniidae</td>\n",
       "      <td>0.55</td>\n",
       "      <td>Micropsectra</td>\n",
       "      <td>Dicranomyia</td>\n",
       "      <td>0.55</td>\n",
       "      <td>NaN</td>\n",
       "      <td>Dicranomyia sp.</td>\n",
       "      <td>0.55</td>\n",
       "    </tr>\n",
       "  </tbody>\n",
       "</table>\n",
       "</div>"
      ],
      "text/plain": [
       "            class_label class_pred  class_score order_label order_pred  \\\n",
       "RRMFA002-15     Insecta    Insecta         0.99     Diptera    Diptera   \n",
       "RRMFA010-15     Insecta    Insecta         0.98     Diptera    Diptera   \n",
       "\n",
       "             order_score  family_label family_pred  family_score  \\\n",
       "RRMFA002-15         0.98  Chironomidae  Limoniidae          0.72   \n",
       "RRMFA010-15         0.88  Chironomidae  Limoniidae          0.55   \n",
       "\n",
       "                  genus_label   genus_pred  genus_score species_label  \\\n",
       "RRMFA002-15  Parakiefferiella  Dicranomyia         0.72           NaN   \n",
       "RRMFA010-15      Micropsectra  Dicranomyia         0.55           NaN   \n",
       "\n",
       "                species_pred  species_score  \n",
       "RRMFA002-15  Dicranomyia sp.           0.72  \n",
       "RRMFA010-15  Dicranomyia sp.           0.55  "
      ]
     },
     "execution_count": 11,
     "metadata": {},
     "output_type": "execute_result"
    }
   ],
   "source": [
    "rdp = pd.read_csv(\"RDP/DS-PBBC.rdp.csv\", sep=',', index_col=0)\n",
    "rdp.head(n=2)"
   ]
  },
  {
   "cell_type": "code",
   "execution_count": 12,
   "id": "bd967481-95a0-49e2-923c-7aefe785481a",
   "metadata": {
    "tags": []
   },
   "outputs": [],
   "source": [
    "rdp_sb = evaluation(rdp, 0.5, 1.0, 0.05)"
   ]
  },
  {
   "cell_type": "code",
   "execution_count": 13,
   "id": "4e8fcc81-4d48-4fa8-841a-e074e2296276",
   "metadata": {
    "tags": []
   },
   "outputs": [
    {
     "data": {
      "text/html": [
       "<div>\n",
       "<style scoped>\n",
       "    .dataframe tbody tr th:only-of-type {\n",
       "        vertical-align: middle;\n",
       "    }\n",
       "\n",
       "    .dataframe tbody tr th {\n",
       "        vertical-align: top;\n",
       "    }\n",
       "\n",
       "    .dataframe thead th {\n",
       "        text-align: right;\n",
       "    }\n",
       "</style>\n",
       "<table border=\"1\" class=\"dataframe\">\n",
       "  <thead>\n",
       "    <tr style=\"text-align: right;\">\n",
       "      <th></th>\n",
       "      <th>rank</th>\n",
       "      <th>Recall</th>\n",
       "      <th>Precision</th>\n",
       "      <th>F1-score</th>\n",
       "      <th>cutoff</th>\n",
       "    </tr>\n",
       "  </thead>\n",
       "  <tbody>\n",
       "    <tr>\n",
       "      <th>0</th>\n",
       "      <td>class</td>\n",
       "      <td>0.804323</td>\n",
       "      <td>0.978268</td>\n",
       "      <td>0.882809</td>\n",
       "      <td>0.8</td>\n",
       "    </tr>\n",
       "    <tr>\n",
       "      <th>1</th>\n",
       "      <td>order</td>\n",
       "      <td>0.621081</td>\n",
       "      <td>0.963621</td>\n",
       "      <td>0.755330</td>\n",
       "      <td>0.8</td>\n",
       "    </tr>\n",
       "    <tr>\n",
       "      <th>2</th>\n",
       "      <td>family</td>\n",
       "      <td>0.324572</td>\n",
       "      <td>0.795029</td>\n",
       "      <td>0.460958</td>\n",
       "      <td>0.8</td>\n",
       "    </tr>\n",
       "    <tr>\n",
       "      <th>3</th>\n",
       "      <td>genus</td>\n",
       "      <td>0.637632</td>\n",
       "      <td>0.482873</td>\n",
       "      <td>0.549566</td>\n",
       "      <td>0.8</td>\n",
       "    </tr>\n",
       "    <tr>\n",
       "      <th>4</th>\n",
       "      <td>species</td>\n",
       "      <td>0.999544</td>\n",
       "      <td>0.473014</td>\n",
       "      <td>0.642145</td>\n",
       "      <td>0.8</td>\n",
       "    </tr>\n",
       "  </tbody>\n",
       "</table>\n",
       "</div>"
      ],
      "text/plain": [
       "      rank    Recall  Precision  F1-score  cutoff\n",
       "0    class  0.804323   0.978268  0.882809     0.8\n",
       "1    order  0.621081   0.963621  0.755330     0.8\n",
       "2   family  0.324572   0.795029  0.460958     0.8\n",
       "3    genus  0.637632   0.482873  0.549566     0.8\n",
       "4  species  0.999544   0.473014  0.642145     0.8"
      ]
     },
     "execution_count": 13,
     "metadata": {},
     "output_type": "execute_result"
    }
   ],
   "source": [
    "rdp_sb.query(\"cutoff >= 0.8 and cutoff < 0.85\")"
   ]
  },
  {
   "cell_type": "code",
   "execution_count": 14,
   "id": "c5c0f1a5-f62f-4cc6-b971-f1100b56771f",
   "metadata": {
    "tags": []
   },
   "outputs": [
    {
     "data": {
      "text/html": [
       "<div>\n",
       "<style scoped>\n",
       "    .dataframe tbody tr th:only-of-type {\n",
       "        vertical-align: middle;\n",
       "    }\n",
       "\n",
       "    .dataframe tbody tr th {\n",
       "        vertical-align: top;\n",
       "    }\n",
       "\n",
       "    .dataframe thead th {\n",
       "        text-align: right;\n",
       "    }\n",
       "</style>\n",
       "<table border=\"1\" class=\"dataframe\">\n",
       "  <thead>\n",
       "    <tr style=\"text-align: right;\">\n",
       "      <th></th>\n",
       "      <th>class_label</th>\n",
       "      <th>class_pred</th>\n",
       "      <th>class_score</th>\n",
       "      <th>order_label</th>\n",
       "      <th>order_pred</th>\n",
       "      <th>order_score</th>\n",
       "      <th>family_label</th>\n",
       "      <th>family_pred</th>\n",
       "      <th>family_score</th>\n",
       "      <th>genus_label</th>\n",
       "      <th>genus_pred</th>\n",
       "      <th>genus_score</th>\n",
       "      <th>species_label</th>\n",
       "      <th>species_pred</th>\n",
       "      <th>species_score</th>\n",
       "    </tr>\n",
       "  </thead>\n",
       "  <tbody>\n",
       "    <tr>\n",
       "      <th>RRMFA002-15</th>\n",
       "      <td>Insecta</td>\n",
       "      <td>Insecta</td>\n",
       "      <td>0.88432</td>\n",
       "      <td>Diptera</td>\n",
       "      <td>Diptera</td>\n",
       "      <td>0.88432</td>\n",
       "      <td>Chironomidae</td>\n",
       "      <td>Chironomidae</td>\n",
       "      <td>0.88432</td>\n",
       "      <td>Parakiefferiella</td>\n",
       "      <td>Parakiefferiella</td>\n",
       "      <td>0.88432</td>\n",
       "      <td>NaN</td>\n",
       "      <td>Parakiefferiella scandica</td>\n",
       "      <td>0.88432</td>\n",
       "    </tr>\n",
       "    <tr>\n",
       "      <th>RRMFA010-15</th>\n",
       "      <td>Insecta</td>\n",
       "      <td>Insecta</td>\n",
       "      <td>0.87386</td>\n",
       "      <td>Diptera</td>\n",
       "      <td>Diptera</td>\n",
       "      <td>0.87386</td>\n",
       "      <td>Chironomidae</td>\n",
       "      <td>Chironomidae</td>\n",
       "      <td>0.87386</td>\n",
       "      <td>Micropsectra</td>\n",
       "      <td>Micropsectra</td>\n",
       "      <td>0.87386</td>\n",
       "      <td>NaN</td>\n",
       "      <td>Micropsectra recurvata</td>\n",
       "      <td>0.87386</td>\n",
       "    </tr>\n",
       "  </tbody>\n",
       "</table>\n",
       "</div>"
      ],
      "text/plain": [
       "            class_label class_pred  class_score order_label order_pred  \\\n",
       "RRMFA002-15     Insecta    Insecta      0.88432     Diptera    Diptera   \n",
       "RRMFA010-15     Insecta    Insecta      0.87386     Diptera    Diptera   \n",
       "\n",
       "             order_score  family_label   family_pred  family_score  \\\n",
       "RRMFA002-15      0.88432  Chironomidae  Chironomidae       0.88432   \n",
       "RRMFA010-15      0.87386  Chironomidae  Chironomidae       0.87386   \n",
       "\n",
       "                  genus_label        genus_pred  genus_score species_label  \\\n",
       "RRMFA002-15  Parakiefferiella  Parakiefferiella      0.88432           NaN   \n",
       "RRMFA010-15      Micropsectra      Micropsectra      0.87386           NaN   \n",
       "\n",
       "                          species_pred  species_score  \n",
       "RRMFA002-15  Parakiefferiella scandica        0.88432  \n",
       "RRMFA010-15     Micropsectra recurvata        0.87386  "
      ]
     },
     "execution_count": 14,
     "metadata": {},
     "output_type": "execute_result"
    }
   ],
   "source": [
    "blast = pd.read_csv(\"BLAST/DS-PBBC.blast.csv\", sep=',', index_col=0)\n",
    "blast.head(n=2)"
   ]
  },
  {
   "cell_type": "code",
   "execution_count": 15,
   "id": "1a046594-4db0-474e-b9fc-67bb1c4c5165",
   "metadata": {
    "tags": []
   },
   "outputs": [],
   "source": [
    "blast_sb = pd.concat([\n",
    "    evaluation(blast, 0.5, 1.0, 0.05),\n",
    "    evaluation(blast, 0.94, 0.95, 0.05),\n",
    "])"
   ]
  },
  {
   "cell_type": "code",
   "execution_count": 16,
   "id": "98aacbbc-4fac-43d2-844b-2d7e487b8462",
   "metadata": {
    "tags": []
   },
   "outputs": [
    {
     "data": {
      "text/html": [
       "<div>\n",
       "<style scoped>\n",
       "    .dataframe tbody tr th:only-of-type {\n",
       "        vertical-align: middle;\n",
       "    }\n",
       "\n",
       "    .dataframe tbody tr th {\n",
       "        vertical-align: top;\n",
       "    }\n",
       "\n",
       "    .dataframe thead th {\n",
       "        text-align: right;\n",
       "    }\n",
       "</style>\n",
       "<table border=\"1\" class=\"dataframe\">\n",
       "  <thead>\n",
       "    <tr style=\"text-align: right;\">\n",
       "      <th></th>\n",
       "      <th>rank</th>\n",
       "      <th>Recall</th>\n",
       "      <th>Precision</th>\n",
       "      <th>F1-score</th>\n",
       "      <th>cutoff</th>\n",
       "    </tr>\n",
       "  </thead>\n",
       "  <tbody>\n",
       "    <tr>\n",
       "      <th>0</th>\n",
       "      <td>class</td>\n",
       "      <td>0.988334</td>\n",
       "      <td>0.992389</td>\n",
       "      <td>0.990357</td>\n",
       "      <td>0.75</td>\n",
       "    </tr>\n",
       "    <tr>\n",
       "      <th>1</th>\n",
       "      <td>order</td>\n",
       "      <td>0.987801</td>\n",
       "      <td>0.931012</td>\n",
       "      <td>0.958566</td>\n",
       "      <td>0.75</td>\n",
       "    </tr>\n",
       "    <tr>\n",
       "      <th>2</th>\n",
       "      <td>family</td>\n",
       "      <td>0.996496</td>\n",
       "      <td>0.752281</td>\n",
       "      <td>0.857336</td>\n",
       "      <td>0.75</td>\n",
       "    </tr>\n",
       "    <tr>\n",
       "      <th>3</th>\n",
       "      <td>genus</td>\n",
       "      <td>0.685884</td>\n",
       "      <td>0.483202</td>\n",
       "      <td>0.566974</td>\n",
       "      <td>0.90</td>\n",
       "    </tr>\n",
       "    <tr>\n",
       "      <th>4</th>\n",
       "      <td>species</td>\n",
       "      <td>0.999543</td>\n",
       "      <td>0.783745</td>\n",
       "      <td>0.878587</td>\n",
       "      <td>0.94</td>\n",
       "    </tr>\n",
       "  </tbody>\n",
       "</table>\n",
       "</div>"
      ],
      "text/plain": [
       "      rank    Recall  Precision  F1-score  cutoff\n",
       "0    class  0.988334   0.992389  0.990357    0.75\n",
       "1    order  0.987801   0.931012  0.958566    0.75\n",
       "2   family  0.996496   0.752281  0.857336    0.75\n",
       "3    genus  0.685884   0.483202  0.566974    0.90\n",
       "4  species  0.999543   0.783745  0.878587    0.94"
      ]
     },
     "execution_count": 16,
     "metadata": {},
     "output_type": "execute_result"
    }
   ],
   "source": [
    "b1 = blast_sb.query(\"rank in ['class', 'order', 'family'] and cutoff >= 0.75 and cutoff < 0.8\")\n",
    "b2 = blast_sb.query(\"rank == 'genus' and cutoff >= 0.9 and cutoff < 0.94\")\n",
    "b3 = blast_sb.query(\"rank == 'species' and cutoff >= 0.94 and cutoff < 0.95\")\n",
    "\n",
    "pd.concat([b1, b2, b3])"
   ]
  },
  {
   "cell_type": "markdown",
   "id": "00a730c1-0765-4ccd-b9de-a21926a440df",
   "metadata": {},
   "source": [
    "# Supplementary Table S5"
   ]
  },
  {
   "cell_type": "code",
   "execution_count": 17,
   "id": "5e36f49b-504d-4763-b959-0c97d5be0338",
   "metadata": {
    "tags": []
   },
   "outputs": [],
   "source": [
    "def get_exact_counts(df, rank, cutoff):\n",
    "    labeled = df.dropna(subset=[f\"{rank}_label\"])\n",
    "    novel = df.loc[df[f\"{rank}_label\"].isna()]\n",
    "    \n",
    "    TP = labeled.query(f\"{rank}_score >= @cutoff and {rank}_pred == {rank}_label\").shape[0]\n",
    "    FP = labeled.query(f\"{rank}_score >= @cutoff and {rank}_pred != {rank}_label\").shape[0]\n",
    "    FN = labeled.query(f\"{rank}_score < @cutoff\").shape[0]\n",
    "    \n",
    "    FP_novel = novel.query(f\"{rank}_score >= @cutoff\").shape[0]\n",
    "    TN = novel.query(f\"{rank}_score < @cutoff\").shape[0]\n",
    "    \n",
    "    return (labeled.shape[0], novel.shape[0]), (TP, FP, FN, FP_novel, TN)"
   ]
  },
  {
   "cell_type": "code",
   "execution_count": 18,
   "id": "3a417e12-bec1-47fe-805f-af08be2c8759",
   "metadata": {
    "tags": []
   },
   "outputs": [
    {
     "name": "stdout",
     "output_type": "stream",
     "text": [
      "((18742, 0), (18411, 26, 305, 0, 0))\n",
      "((18742, 0), (18464, 27, 251, 0, 0))\n",
      "((18742, 0), (14951, 368, 3423, 0, 0))\n",
      "((18742, 0), (18385, 141, 216, 0, 0))\n"
     ]
    }
   ],
   "source": [
    "rank='class'\n",
    "print(get_exact_counts(no_mcm, rank, 0.9))\n",
    "print(get_exact_counts(deepcoi, rank, 0.9))\n",
    "print(get_exact_counts(rdp, rank, 0.8))\n",
    "print(get_exact_counts(blast, rank, 0.75))"
   ]
  },
  {
   "cell_type": "code",
   "execution_count": 19,
   "id": "dfbec143-e63b-46a4-9caa-19961b668d94",
   "metadata": {
    "tags": []
   },
   "outputs": [
    {
     "name": "stdout",
     "output_type": "stream",
     "text": [
      "((18506, 236), (17053, 150, 1303, 1, 235))\n",
      "((18506, 236), (17218, 148, 1140, 1, 235))\n",
      "((18506, 236), (11357, 557, 6592, 1, 235))\n",
      "((18506, 236), (17248, 1046, 212, 232, 4))\n"
     ]
    }
   ],
   "source": [
    "rank='order'\n",
    "print(get_exact_counts(no_mcm, rank, 0.9))\n",
    "print(get_exact_counts(deepcoi, rank, 0.9))\n",
    "print(get_exact_counts(rdp, rank, 0.8))\n",
    "print(get_exact_counts(blast, rank, 0.75))"
   ]
  },
  {
   "cell_type": "code",
   "execution_count": 20,
   "id": "3146bd87-883a-4741-800e-377f86857acd",
   "metadata": {
    "tags": []
   },
   "outputs": [
    {
     "name": "stdout",
     "output_type": "stream",
     "text": [
      "((17692, 1050), (12973, 146, 4573, 42, 1008))\n",
      "((17692, 1050), (13055, 150, 4487, 42, 1008))\n",
      "((17692, 1050), (5412, 1511, 10769, 42, 1008))\n",
      "((17692, 1050), (13936, 3708, 48, 882, 168))\n"
     ]
    }
   ],
   "source": [
    "rank='family'\n",
    "print(get_exact_counts(no_mcm, rank, 0.9))\n",
    "print(get_exact_counts(deepcoi, rank, 0.9))\n",
    "print(get_exact_counts(rdp, rank, 0.8))\n",
    "print(get_exact_counts(blast, rank, 0.75))"
   ]
  },
  {
   "cell_type": "code",
   "execution_count": 21,
   "id": "cdc00ee8-27cc-4453-81b6-ace792717103",
   "metadata": {
    "tags": []
   },
   "outputs": [
    {
     "name": "stdout",
     "output_type": "stream",
     "text": [
      "((4295, 14447), (2561, 11, 1723, 1722, 12725))\n",
      "((4295, 14447), (2627, 14, 1654, 1742, 12705))\n",
      "((4295, 14447), (2472, 520, 1303, 2357, 12090))\n",
      "((4295, 14447), (2891, 82, 1322, 3043, 11404))\n"
     ]
    }
   ],
   "source": [
    "rank='genus'\n",
    "print(get_exact_counts(no_mcm, rank, 0.9))\n",
    "print(get_exact_counts(deepcoi, rank, 0.9))\n",
    "print(get_exact_counts(rdp, rank, 0.8))\n",
    "print(get_exact_counts(blast, rank, 0.9))"
   ]
  },
  {
   "cell_type": "code",
   "execution_count": 22,
   "id": "9667986f-49ec-4c82-9dfe-82d149e11d1b",
   "metadata": {
    "tags": []
   },
   "outputs": [
    {
     "name": "stdout",
     "output_type": "stream",
     "text": [
      "((2274, 16468), (2133, 84, 57, 385, 16083))\n",
      "((2274, 16468), (2133, 84, 57, 384, 16084))\n",
      "((2274, 16468), (2191, 82, 1, 2581, 13887))\n",
      "((2274, 16468), (2189, 84, 1, 520, 15948))\n"
     ]
    }
   ],
   "source": [
    "rank='species'\n",
    "print(get_exact_counts(no_mcm, rank, 0.9))\n",
    "print(get_exact_counts(deepcoi, rank, 0.9))\n",
    "print(get_exact_counts(rdp, rank, 0.8))\n",
    "print(get_exact_counts(blast, rank, 0.94))"
   ]
  },
  {
   "cell_type": "code",
   "execution_count": null,
   "id": "5f334ea6-ff2f-49bf-a3e6-961b62f1731c",
   "metadata": {},
   "outputs": [],
   "source": []
  }
 ],
 "metadata": {
  "kernelspec": {
   "display_name": "Python 3 (ipykernel)",
   "language": "python",
   "name": "python3"
  },
  "language_info": {
   "codemirror_mode": {
    "name": "ipython",
    "version": 3
   },
   "file_extension": ".py",
   "mimetype": "text/x-python",
   "name": "python",
   "nbconvert_exporter": "python",
   "pygments_lexer": "ipython3",
   "version": "3.11.8"
  }
 },
 "nbformat": 4,
 "nbformat_minor": 5
}
