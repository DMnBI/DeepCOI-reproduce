{
 "cells": [
  {
   "cell_type": "code",
   "execution_count": 1,
   "id": "de01f256-ad20-434d-8e76-247530cebe94",
   "metadata": {
    "tags": []
   },
   "outputs": [],
   "source": [
    "import pandas as pd"
   ]
  },
  {
   "cell_type": "code",
   "execution_count": 5,
   "id": "c8b48fb3-d1c8-4db1-bd85-a3458df674ab",
   "metadata": {
    "tags": []
   },
   "outputs": [],
   "source": [
    "import os\n",
    "os.chdir(\"../Sup_Table_S4\")"
   ]
  },
  {
   "cell_type": "code",
   "execution_count": 2,
   "id": "0cc21160-b592-4beb-9273-ab0a3dbe26d0",
   "metadata": {
    "tags": []
   },
   "outputs": [],
   "source": [
    "PHYLA = ['Annelida', 'Arthropoda', 'Chordata', 'Cnidaria', 'Echinodermata', 'Mollusca', 'Nematoda', 'Platyhelminthes']"
   ]
  },
  {
   "cell_type": "code",
   "execution_count": 3,
   "id": "62541e6a-0b5c-4379-aa27-a0d929bac1a8",
   "metadata": {
    "tags": []
   },
   "outputs": [],
   "source": [
    "def load_preds(file_name):\n",
    "    preds = pd.read_csv(file_name, sep=',')\n",
    "    preds.columns = ['header', 'rank', 'pred', 'score']\n",
    "    preds['sid'] = preds['header'].apply(lambda x: x.split(' |')[0])\n",
    "    \n",
    "    return preds"
   ]
  },
  {
   "cell_type": "code",
   "execution_count": 4,
   "id": "08d1114b-30c3-493b-9bd2-bc7df8262561",
   "metadata": {
    "tags": []
   },
   "outputs": [],
   "source": [
    "def get_FP(preds, sp_info, cutoff):\n",
    "    df = pd.merge(left=preds, right=sp_info, left_on='sid', right_on='sid', how='inner')\n",
    "    excluded = df.query(\"species == 'excluded'\")\n",
    "    \n",
    "    total = excluded.query(\"rank == 'species'\")\n",
    "    FP = total.query(\"score > @cutoff\")\n",
    "    \n",
    "    return FP, total"
   ]
  },
  {
   "cell_type": "code",
   "execution_count": 6,
   "id": "6318cdc5-2452-4783-abf9-6891cf260d33",
   "metadata": {
    "tags": []
   },
   "outputs": [],
   "source": [
    "tmp = {'DeepCOI': {}, 'RDP': {}, 'BLAST': {}}\n",
    "\n",
    "for phylum in PHYLA:\n",
    "    sp_info = pd.read_csv(f\"../../data/testset_labels/{phylum}.test.labels.txt\", sep=',')\n",
    "    \n",
    "    coi = load_preds(f\"{phylum}.preds.csv\")\n",
    "    FP_coi, total_coi = get_FP(coi, sp_info, 0.9)\n",
    "    tmp['DeepCOI'][phylum] = FP_coi.shape[0] / total_coi.shape[0]\n",
    "    \n",
    "    rdp = load_preds(f\"{phylum}.rdp.csv\")\n",
    "    FP_rdp, total_rdp = get_FP(rdp, sp_info, 0.8)\n",
    "    tmp['RDP'][phylum] = FP_rdp.shape[0] / total_rdp.shape[0]\n",
    "    \n",
    "    blast = load_preds(f\"{phylum}.blast.csv\")\n",
    "    FP_blast, total_blast = get_FP(blast, sp_info, 94)\n",
    "    tmp['BLAST'][phylum] = FP_blast.shape[0] / total_blast.shape[0]\n",
    "    \n",
    "df = pd.DataFrame(tmp)"
   ]
  },
  {
   "cell_type": "code",
   "execution_count": 7,
   "id": "a5d4c11b-9b66-4471-b327-833dc9c8b9e6",
   "metadata": {
    "tags": []
   },
   "outputs": [
    {
     "data": {
      "text/html": [
       "<div>\n",
       "<style scoped>\n",
       "    .dataframe tbody tr th:only-of-type {\n",
       "        vertical-align: middle;\n",
       "    }\n",
       "\n",
       "    .dataframe tbody tr th {\n",
       "        vertical-align: top;\n",
       "    }\n",
       "\n",
       "    .dataframe thead th {\n",
       "        text-align: right;\n",
       "    }\n",
       "</style>\n",
       "<table border=\"1\" class=\"dataframe\">\n",
       "  <thead>\n",
       "    <tr style=\"text-align: right;\">\n",
       "      <th></th>\n",
       "      <th>DeepCOI</th>\n",
       "      <th>RDP</th>\n",
       "      <th>BLAST</th>\n",
       "    </tr>\n",
       "  </thead>\n",
       "  <tbody>\n",
       "    <tr>\n",
       "      <th>Annelida</th>\n",
       "      <td>0.177298</td>\n",
       "      <td>0.517010</td>\n",
       "      <td>0.195289</td>\n",
       "    </tr>\n",
       "    <tr>\n",
       "      <th>Arthropoda</th>\n",
       "      <td>0.115794</td>\n",
       "      <td>0.308865</td>\n",
       "      <td>0.344482</td>\n",
       "    </tr>\n",
       "    <tr>\n",
       "      <th>Chordata</th>\n",
       "      <td>0.259539</td>\n",
       "      <td>0.584183</td>\n",
       "      <td>0.409348</td>\n",
       "    </tr>\n",
       "    <tr>\n",
       "      <th>Cnidaria</th>\n",
       "      <td>0.414410</td>\n",
       "      <td>0.735309</td>\n",
       "      <td>0.608074</td>\n",
       "    </tr>\n",
       "    <tr>\n",
       "      <th>Echinodermata</th>\n",
       "      <td>0.212784</td>\n",
       "      <td>0.590734</td>\n",
       "      <td>0.293436</td>\n",
       "    </tr>\n",
       "    <tr>\n",
       "      <th>Mollusca</th>\n",
       "      <td>0.277985</td>\n",
       "      <td>0.551507</td>\n",
       "      <td>0.336932</td>\n",
       "    </tr>\n",
       "    <tr>\n",
       "      <th>Nematoda</th>\n",
       "      <td>0.144968</td>\n",
       "      <td>0.543860</td>\n",
       "      <td>0.183749</td>\n",
       "    </tr>\n",
       "    <tr>\n",
       "      <th>Platyhelminthes</th>\n",
       "      <td>0.157175</td>\n",
       "      <td>0.457099</td>\n",
       "      <td>0.211845</td>\n",
       "    </tr>\n",
       "  </tbody>\n",
       "</table>\n",
       "</div>"
      ],
      "text/plain": [
       "                  DeepCOI       RDP     BLAST\n",
       "Annelida         0.177298  0.517010  0.195289\n",
       "Arthropoda       0.115794  0.308865  0.344482\n",
       "Chordata         0.259539  0.584183  0.409348\n",
       "Cnidaria         0.414410  0.735309  0.608074\n",
       "Echinodermata    0.212784  0.590734  0.293436\n",
       "Mollusca         0.277985  0.551507  0.336932\n",
       "Nematoda         0.144968  0.543860  0.183749\n",
       "Platyhelminthes  0.157175  0.457099  0.211845"
      ]
     },
     "execution_count": 7,
     "metadata": {},
     "output_type": "execute_result"
    }
   ],
   "source": [
    "df"
   ]
  },
  {
   "cell_type": "code",
   "execution_count": null,
   "id": "a90da1c1-afb0-412a-a77d-c4bac0f3acb7",
   "metadata": {},
   "outputs": [],
   "source": []
  }
 ],
 "metadata": {
  "kernelspec": {
   "display_name": "Python 3 (ipykernel)",
   "language": "python",
   "name": "python3"
  },
  "language_info": {
   "codemirror_mode": {
    "name": "ipython",
    "version": 3
   },
   "file_extension": ".py",
   "mimetype": "text/x-python",
   "name": "python",
   "nbconvert_exporter": "python",
   "pygments_lexer": "ipython3",
   "version": "3.11.8"
  }
 },
 "nbformat": 4,
 "nbformat_minor": 5
}
