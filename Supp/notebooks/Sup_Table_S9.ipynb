{
 "cells": [
  {
   "cell_type": "code",
   "execution_count": 1,
   "id": "0e3eb484-0e10-4033-b4de-c438be8c74a2",
   "metadata": {
    "tags": []
   },
   "outputs": [],
   "source": [
    "import pandas as pd"
   ]
  },
  {
   "cell_type": "code",
   "execution_count": 2,
   "id": "37e97228-023b-4553-899d-734b5abb4b06",
   "metadata": {
    "tags": []
   },
   "outputs": [
    {
     "data": {
      "text/html": [
       "<div>\n",
       "<style scoped>\n",
       "    .dataframe tbody tr th:only-of-type {\n",
       "        vertical-align: middle;\n",
       "    }\n",
       "\n",
       "    .dataframe tbody tr th {\n",
       "        vertical-align: top;\n",
       "    }\n",
       "\n",
       "    .dataframe thead th {\n",
       "        text-align: right;\n",
       "    }\n",
       "</style>\n",
       "<table border=\"1\" class=\"dataframe\">\n",
       "  <thead>\n",
       "    <tr style=\"text-align: right;\">\n",
       "      <th></th>\n",
       "      <th>phylum</th>\n",
       "      <th>trial</th>\n",
       "      <th>rank</th>\n",
       "      <th>AUROC</th>\n",
       "      <th>AUPR</th>\n",
       "    </tr>\n",
       "  </thead>\n",
       "  <tbody>\n",
       "    <tr>\n",
       "      <th>0</th>\n",
       "      <td>Annelida</td>\n",
       "      <td>0</td>\n",
       "      <td>class</td>\n",
       "      <td>0.999186</td>\n",
       "      <td>0.997816</td>\n",
       "    </tr>\n",
       "    <tr>\n",
       "      <th>1</th>\n",
       "      <td>Annelida</td>\n",
       "      <td>3</td>\n",
       "      <td>class</td>\n",
       "      <td>0.999095</td>\n",
       "      <td>0.997381</td>\n",
       "    </tr>\n",
       "  </tbody>\n",
       "</table>\n",
       "</div>"
      ],
      "text/plain": [
       "     phylum  trial   rank     AUROC      AUPR\n",
       "0  Annelida      0  class  0.999186  0.997816\n",
       "1  Annelida      3  class  0.999095  0.997381"
      ]
     },
     "execution_count": 2,
     "metadata": {},
     "output_type": "execute_result"
    }
   ],
   "source": [
    "df = pd.read_csv(\"../Sup_Table_S9/Sup_Table_S9.data.csv\", sep=',')\n",
    "df.head(n=2)"
   ]
  },
  {
   "cell_type": "code",
   "execution_count": 13,
   "id": "26a4b1c3-f18a-4500-9832-42dd5781195c",
   "metadata": {
    "tags": []
   },
   "outputs": [],
   "source": [
    "auroc = df.groupby(['phylum', 'trial'])['AUROC'].mean()\n",
    "auroc = auroc.unstack()\n",
    "auroc['min'] = auroc.min(axis=1)\n",
    "auroc['max'] = auroc.max(axis=1)\n",
    "auroc['diff'] = auroc['max'] - auroc['min']\n",
    "auroc = auroc[['min', 'max', 'diff']]"
   ]
  },
  {
   "cell_type": "code",
   "execution_count": 14,
   "id": "ae4759a2-6a7b-43bc-880e-5b858065d0f1",
   "metadata": {
    "tags": []
   },
   "outputs": [
    {
     "data": {
      "text/html": [
       "<div>\n",
       "<style scoped>\n",
       "    .dataframe tbody tr th:only-of-type {\n",
       "        vertical-align: middle;\n",
       "    }\n",
       "\n",
       "    .dataframe tbody tr th {\n",
       "        vertical-align: top;\n",
       "    }\n",
       "\n",
       "    .dataframe thead th {\n",
       "        text-align: right;\n",
       "    }\n",
       "</style>\n",
       "<table border=\"1\" class=\"dataframe\">\n",
       "  <thead>\n",
       "    <tr style=\"text-align: right;\">\n",
       "      <th>trial</th>\n",
       "      <th>min</th>\n",
       "      <th>max</th>\n",
       "      <th>diff</th>\n",
       "    </tr>\n",
       "    <tr>\n",
       "      <th>phylum</th>\n",
       "      <th></th>\n",
       "      <th></th>\n",
       "      <th></th>\n",
       "    </tr>\n",
       "  </thead>\n",
       "  <tbody>\n",
       "    <tr>\n",
       "      <th>Annelida</th>\n",
       "      <td>0.963647</td>\n",
       "      <td>0.967372</td>\n",
       "      <td>0.003725</td>\n",
       "    </tr>\n",
       "  </tbody>\n",
       "</table>\n",
       "</div>"
      ],
      "text/plain": [
       "trial          min       max      diff\n",
       "phylum                                \n",
       "Annelida  0.963647  0.967372  0.003725"
      ]
     },
     "execution_count": 14,
     "metadata": {},
     "output_type": "execute_result"
    }
   ],
   "source": [
    "auroc"
   ]
  },
  {
   "cell_type": "code",
   "execution_count": 15,
   "id": "2d30d36f-5729-4a41-b150-e27408b89b14",
   "metadata": {
    "tags": []
   },
   "outputs": [],
   "source": [
    "aupr = df.groupby(['phylum', 'trial'])['AUPR'].mean()\n",
    "aupr = aupr.unstack()\n",
    "aupr['min'] = aupr.min(axis=1)\n",
    "aupr['max'] = aupr.max(axis=1)\n",
    "aupr['diff'] = aupr['max'] - aupr['min']\n",
    "aupr = aupr[['min', 'max', 'diff']]"
   ]
  },
  {
   "cell_type": "code",
   "execution_count": 16,
   "id": "1315ec58-ff46-484e-8015-59d2a84c9eda",
   "metadata": {
    "tags": []
   },
   "outputs": [
    {
     "data": {
      "text/html": [
       "<div>\n",
       "<style scoped>\n",
       "    .dataframe tbody tr th:only-of-type {\n",
       "        vertical-align: middle;\n",
       "    }\n",
       "\n",
       "    .dataframe tbody tr th {\n",
       "        vertical-align: top;\n",
       "    }\n",
       "\n",
       "    .dataframe thead th {\n",
       "        text-align: right;\n",
       "    }\n",
       "</style>\n",
       "<table border=\"1\" class=\"dataframe\">\n",
       "  <thead>\n",
       "    <tr style=\"text-align: right;\">\n",
       "      <th>trial</th>\n",
       "      <th>min</th>\n",
       "      <th>max</th>\n",
       "      <th>diff</th>\n",
       "    </tr>\n",
       "    <tr>\n",
       "      <th>phylum</th>\n",
       "      <th></th>\n",
       "      <th></th>\n",
       "      <th></th>\n",
       "    </tr>\n",
       "  </thead>\n",
       "  <tbody>\n",
       "    <tr>\n",
       "      <th>Annelida</th>\n",
       "      <td>0.901982</td>\n",
       "      <td>0.911427</td>\n",
       "      <td>0.009445</td>\n",
       "    </tr>\n",
       "  </tbody>\n",
       "</table>\n",
       "</div>"
      ],
      "text/plain": [
       "trial          min       max      diff\n",
       "phylum                                \n",
       "Annelida  0.901982  0.911427  0.009445"
      ]
     },
     "execution_count": 16,
     "metadata": {},
     "output_type": "execute_result"
    }
   ],
   "source": [
    "aupr"
   ]
  },
  {
   "cell_type": "code",
   "execution_count": null,
   "id": "ada86515-6f32-4d2d-bd0f-7f2799248c91",
   "metadata": {},
   "outputs": [],
   "source": []
  }
 ],
 "metadata": {
  "kernelspec": {
   "display_name": "Python 3 (ipykernel)",
   "language": "python",
   "name": "python3"
  },
  "language_info": {
   "codemirror_mode": {
    "name": "ipython",
    "version": 3
   },
   "file_extension": ".py",
   "mimetype": "text/x-python",
   "name": "python",
   "nbconvert_exporter": "python",
   "pygments_lexer": "ipython3",
   "version": "3.11.8"
  }
 },
 "nbformat": 4,
 "nbformat_minor": 5
}
