{
 "cells": [
  {
   "cell_type": "code",
   "execution_count": 1,
   "id": "ceba179d-7a0d-4a84-9340-95a2a27c9a0e",
   "metadata": {
    "tags": []
   },
   "outputs": [],
   "source": [
    "import pandas as pd\n",
    "from Bio import SeqIO\n",
    "import numpy as np\n",
    "\n",
    "import matplotlib.pyplot as plt\n",
    "import seaborn as sns"
   ]
  },
  {
   "cell_type": "code",
   "execution_count": 4,
   "id": "a5a39d31-ced9-4b4e-b0d5-1a9ac73e70e6",
   "metadata": {
    "tags": []
   },
   "outputs": [],
   "source": [
    "import os\n",
    "os.chdir(\"../Sup_Table_S6\")"
   ]
  },
  {
   "cell_type": "code",
   "execution_count": 2,
   "id": "8b3dcdbd-edc4-4ee3-b5b4-82ed1fb57703",
   "metadata": {
    "tags": []
   },
   "outputs": [],
   "source": [
    "PHYLA = ['Actinobacteria', 'Bacteroidetes', 'Cyanobacteria', 'Firmicutes', 'Proteobacteria']"
   ]
  },
  {
   "cell_type": "code",
   "execution_count": 5,
   "id": "25056d66-1f8f-49a0-923c-416d5311823a",
   "metadata": {
    "tags": []
   },
   "outputs": [],
   "source": [
    "# Total number of queries\n",
    "def load_nseqs(file_name):\n",
    "    parser = SeqIO.index(file_name, format='fasta')\n",
    "    \n",
    "    return len(parser.keys())\n",
    "\n",
    "n_queries = {\n",
    "    phylum: load_nseqs(f\"data/{phylum}.COI.fasta\")\n",
    "    for phylum in PHYLA\n",
    "}"
   ]
  },
  {
   "cell_type": "code",
   "execution_count": 6,
   "id": "b4ac8d82-b3ba-4e2f-ba47-5e758e77481f",
   "metadata": {
    "tags": []
   },
   "outputs": [],
   "source": [
    "# DeepCOI-phylum\n",
    "low_score = {}\n",
    "outgroups = {}\n",
    "\n",
    "for phylum in PHYLA:\n",
    "    preds = pd.read_csv(f\"DeepCOI/{phylum}.phylum.txt\", sep='\\t', header=None)\n",
    "    preds.columns = ['sid', 'rank', 'pred', 'score']\n",
    "    \n",
    "    low_score[phylum] = preds.query(\"score < 0.9\").shape[0]\n",
    "    outgroups[phylum] = preds.query(\"score >= 0.9 and pred == 'outgroups'\").shape[0]"
   ]
  },
  {
   "cell_type": "code",
   "execution_count": 7,
   "id": "3cd4e974-7c74-4674-be3d-8a02bb398c03",
   "metadata": {
    "tags": []
   },
   "outputs": [],
   "source": [
    "n_deeper = {}\n",
    "n_order = {}\n",
    "n_class = {}\n",
    "n_uncl = {}\n",
    "\n",
    "for phylum in PHYLA:\n",
    "    df = pd.read_csv(f\"DeepCOI/lower_ranks/{phylum}.lower.txt\", sep='\\t', header=None)\n",
    "    df.columns = ['sid', 'rank_c', 'class', 'score_c', 'rank_o', 'order', 'score_o', 'rank_f', 'family', 'score_f', 'rank_g', 'genus', 'score_g', 'rank_s', 'species', 'score_s']\n",
    "    \n",
    "    u = df.query(\"score_c < 0.9\").shape[0]\n",
    "    c = df.query(\"score_c > 0.9\").shape[0]\n",
    "    o = df.query(\"score_o > 0.9\").shape[0]\n",
    "    d = df.shape[0] - u - c\n",
    "    \n",
    "    n_deeper[phylum] = d\n",
    "    n_order[phylum] = o\n",
    "    n_class[phylum] = c - o\n",
    "    n_uncl[phylum] = u"
   ]
  },
  {
   "cell_type": "code",
   "execution_count": 8,
   "id": "0ff4a574-06f9-4330-adcc-05839f1cbc2c",
   "metadata": {
    "tags": []
   },
   "outputs": [],
   "source": [
    "df = pd.DataFrame({\n",
    "    'n_query': n_queries,\n",
    "    'low_score': low_score,\n",
    "    'outgroups': outgroups,\n",
    "    'n_uncl': n_uncl,\n",
    "    'n_class': n_class,\n",
    "    'n_order': n_order,\n",
    "    'n_deeper': n_deeper\n",
    "})\n",
    "df['FP'] = df['n_query'] - df['outgroups'] - df['low_score']"
   ]
  },
  {
   "cell_type": "code",
   "execution_count": 9,
   "id": "692fe36e-96ef-4299-84db-0e3a48ffa690",
   "metadata": {
    "tags": []
   },
   "outputs": [
    {
     "data": {
      "text/html": [
       "<div>\n",
       "<style scoped>\n",
       "    .dataframe tbody tr th:only-of-type {\n",
       "        vertical-align: middle;\n",
       "    }\n",
       "\n",
       "    .dataframe tbody tr th {\n",
       "        vertical-align: top;\n",
       "    }\n",
       "\n",
       "    .dataframe thead th {\n",
       "        text-align: right;\n",
       "    }\n",
       "</style>\n",
       "<table border=\"1\" class=\"dataframe\">\n",
       "  <thead>\n",
       "    <tr style=\"text-align: right;\">\n",
       "      <th></th>\n",
       "      <th>n_query</th>\n",
       "      <th>low_score</th>\n",
       "      <th>outgroups</th>\n",
       "      <th>n_uncl</th>\n",
       "      <th>n_class</th>\n",
       "      <th>n_order</th>\n",
       "      <th>n_deeper</th>\n",
       "      <th>FP</th>\n",
       "    </tr>\n",
       "  </thead>\n",
       "  <tbody>\n",
       "    <tr>\n",
       "      <th>Actinobacteria</th>\n",
       "      <td>658</td>\n",
       "      <td>635</td>\n",
       "      <td>1</td>\n",
       "      <td>5</td>\n",
       "      <td>6</td>\n",
       "      <td>11</td>\n",
       "      <td>0</td>\n",
       "      <td>22</td>\n",
       "    </tr>\n",
       "    <tr>\n",
       "      <th>Bacteroidetes</th>\n",
       "      <td>104</td>\n",
       "      <td>96</td>\n",
       "      <td>7</td>\n",
       "      <td>0</td>\n",
       "      <td>1</td>\n",
       "      <td>0</td>\n",
       "      <td>0</td>\n",
       "      <td>1</td>\n",
       "    </tr>\n",
       "    <tr>\n",
       "      <th>Cyanobacteria</th>\n",
       "      <td>50</td>\n",
       "      <td>42</td>\n",
       "      <td>7</td>\n",
       "      <td>1</td>\n",
       "      <td>0</td>\n",
       "      <td>0</td>\n",
       "      <td>0</td>\n",
       "      <td>1</td>\n",
       "    </tr>\n",
       "    <tr>\n",
       "      <th>Firmicutes</th>\n",
       "      <td>195</td>\n",
       "      <td>190</td>\n",
       "      <td>2</td>\n",
       "      <td>3</td>\n",
       "      <td>0</td>\n",
       "      <td>0</td>\n",
       "      <td>0</td>\n",
       "      <td>3</td>\n",
       "    </tr>\n",
       "    <tr>\n",
       "      <th>Proteobacteria</th>\n",
       "      <td>4550</td>\n",
       "      <td>4215</td>\n",
       "      <td>46</td>\n",
       "      <td>52</td>\n",
       "      <td>64</td>\n",
       "      <td>173</td>\n",
       "      <td>0</td>\n",
       "      <td>289</td>\n",
       "    </tr>\n",
       "  </tbody>\n",
       "</table>\n",
       "</div>"
      ],
      "text/plain": [
       "                n_query  low_score  outgroups  n_uncl  n_class  n_order  \\\n",
       "Actinobacteria      658        635          1       5        6       11   \n",
       "Bacteroidetes       104         96          7       0        1        0   \n",
       "Cyanobacteria        50         42          7       1        0        0   \n",
       "Firmicutes          195        190          2       3        0        0   \n",
       "Proteobacteria     4550       4215         46      52       64      173   \n",
       "\n",
       "                n_deeper   FP  \n",
       "Actinobacteria         0   22  \n",
       "Bacteroidetes          0    1  \n",
       "Cyanobacteria          0    1  \n",
       "Firmicutes             0    3  \n",
       "Proteobacteria         0  289  "
      ]
     },
     "execution_count": 9,
     "metadata": {},
     "output_type": "execute_result"
    }
   ],
   "source": [
    "df"
   ]
  },
  {
   "cell_type": "markdown",
   "id": "5b3da711-f868-4e07-b73a-6cfc3a091c11",
   "metadata": {},
   "source": [
    "# Sup_Table_S6"
   ]
  },
  {
   "cell_type": "code",
   "execution_count": 10,
   "id": "fcd75c67-5658-48ae-a8c6-207efdc3353a",
   "metadata": {
    "tags": []
   },
   "outputs": [
    {
     "data": {
      "text/html": [
       "<div>\n",
       "<style scoped>\n",
       "    .dataframe tbody tr th:only-of-type {\n",
       "        vertical-align: middle;\n",
       "    }\n",
       "\n",
       "    .dataframe tbody tr th {\n",
       "        vertical-align: top;\n",
       "    }\n",
       "\n",
       "    .dataframe thead th {\n",
       "        text-align: right;\n",
       "    }\n",
       "</style>\n",
       "<table border=\"1\" class=\"dataframe\">\n",
       "  <thead>\n",
       "    <tr style=\"text-align: right;\">\n",
       "      <th></th>\n",
       "      <th>n_query</th>\n",
       "      <th>FP</th>\n",
       "      <th>n_deeper</th>\n",
       "    </tr>\n",
       "  </thead>\n",
       "  <tbody>\n",
       "    <tr>\n",
       "      <th>Actinobacteria</th>\n",
       "      <td>658</td>\n",
       "      <td>22</td>\n",
       "      <td>0</td>\n",
       "    </tr>\n",
       "    <tr>\n",
       "      <th>Bacteroidetes</th>\n",
       "      <td>104</td>\n",
       "      <td>1</td>\n",
       "      <td>0</td>\n",
       "    </tr>\n",
       "    <tr>\n",
       "      <th>Cyanobacteria</th>\n",
       "      <td>50</td>\n",
       "      <td>1</td>\n",
       "      <td>0</td>\n",
       "    </tr>\n",
       "    <tr>\n",
       "      <th>Firmicutes</th>\n",
       "      <td>195</td>\n",
       "      <td>3</td>\n",
       "      <td>0</td>\n",
       "    </tr>\n",
       "    <tr>\n",
       "      <th>Proteobacteria</th>\n",
       "      <td>4550</td>\n",
       "      <td>289</td>\n",
       "      <td>0</td>\n",
       "    </tr>\n",
       "  </tbody>\n",
       "</table>\n",
       "</div>"
      ],
      "text/plain": [
       "                n_query   FP  n_deeper\n",
       "Actinobacteria      658   22         0\n",
       "Bacteroidetes       104    1         0\n",
       "Cyanobacteria        50    1         0\n",
       "Firmicutes          195    3         0\n",
       "Proteobacteria     4550  289         0"
      ]
     },
     "execution_count": 10,
     "metadata": {},
     "output_type": "execute_result"
    }
   ],
   "source": [
    "df[['n_query', 'FP', 'n_deeper']]"
   ]
  },
  {
   "cell_type": "code",
   "execution_count": null,
   "id": "dfe325f9-90c3-44c9-94aa-c436caa1f5e2",
   "metadata": {},
   "outputs": [],
   "source": []
  }
 ],
 "metadata": {
  "kernelspec": {
   "display_name": "Python 3 (ipykernel)",
   "language": "python",
   "name": "python3"
  },
  "language_info": {
   "codemirror_mode": {
    "name": "ipython",
    "version": 3
   },
   "file_extension": ".py",
   "mimetype": "text/x-python",
   "name": "python",
   "nbconvert_exporter": "python",
   "pygments_lexer": "ipython3",
   "version": "3.11.8"
  }
 },
 "nbformat": 4,
 "nbformat_minor": 5
}
